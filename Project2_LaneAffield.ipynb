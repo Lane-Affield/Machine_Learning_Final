{
  "nbformat": 4,
  "nbformat_minor": 0,
  "metadata": {
    "colab": {
      "provenance": [],
      "collapsed_sections": [
        "HbwKLNhzP8YO",
        "o_2nxIO5Ay5N",
        "rs7xX0zmbBiW",
        "rZhZKXrSHhUR",
        "Pfzh6yMTbNbF",
        "kks-YKS5a2cA",
        "Hky1R5ildn7D",
        "3jOmK7LSJrH3",
        "F9N2ekM3fCye",
        "w0N2UKXXiegD",
        "2JTsbetdmIv6",
        "eZw57HWHnqOJ",
        "kpMp6gypbkou",
        "A3Ifye22brBZ",
        "MdInFb0UIIGz",
        "aPkFkbgYJIPt",
        "qvY8-Lm-SjxM",
        "hrOpnzAaKP22",
        "A0KsOmhacBxC",
        "SpImu1_3aWkC",
        "YYiIfI50bNQs",
        "MuLvnWs3mW8I",
        "q4yCklCGlndk",
        "E5iclDYGpdub",
        "iqdRAYHUcKT_",
        "MZb9FG6urN3Y",
        "uE2VFLBSvxI_",
        "RKRe9APCwdJx",
        "2Qu9bYPLmiv_",
        "TemAuKxlm6dQ"
      ],
      "include_colab_link": true
    },
    "kernelspec": {
      "name": "python3",
      "display_name": "Python 3"
    },
    "language_info": {
      "name": "python"
    },
    "accelerator": "GPU",
    "gpuClass": "standard"
  },
  "cells": [
    {
      "cell_type": "markdown",
      "metadata": {
        "id": "view-in-github",
        "colab_type": "text"
      },
      "source": [
        "<a href=\"https://colab.research.google.com/github/Lane-Affield/Machine_Learning_Final/blob/main/Project2_LaneAffield.ipynb\" target=\"_parent\"><img src=\"https://colab.research.google.com/assets/colab-badge.svg\" alt=\"Open In Colab\"/></a>"
      ]
    },
    {
      "cell_type": "markdown",
      "source": [
        "# Project #2\n",
        "##Name: Lane Affield\n",
        "\n",
        "Proposed Points (out of 25): 24/25 \n",
        "\n",
        "**Problem** (1/1): I answered the questions about the data, explained the problem I am trying to solve, and stated what I am trying to predict\n",
        "\n",
        "**Data** Prep(2/2): I checked to see if my data was null anywhere, created a train and test set, and normalized my data before using it. \n",
        "\n",
        "**Research**(9/10): I tried to find the best values for several paramters on each algorithm I tested. Included graphs when possible and kept things organized. The reason I docked myself a point was becasue I wanted to run PCA on my SVM but struggled at getting it to not show an error when I ran the tranformed training and test set. \n",
        "\n",
        "**analysis**(10/10): I discussed which algorithm worked best, which didn't, my findings for each algorithm. I talked about whcih parameters worked well and which didnt for increasing the accuracy of each model. \n",
        "\n",
        "**Bumps In the Road**(1/1): I descirbed several instances where I ran into trouble during this experiment. \n"
      ],
      "metadata": {
        "id": "rIepkBIuT_Pl"
      }
    },
    {
      "cell_type": "markdown",
      "source": [
        "# 1. Problem\n",
        "State the problem you are trying to solve with this machine learning experiment. Include a description of the data, where you got the data, and what you're trying to predict."
      ],
      "metadata": {
        "id": "HbwKLNhzP8YO"
      }
    },
    {
      "cell_type": "markdown",
      "source": [
        "Link to Dataset: https://www.kaggle.com/datasets/rashikrahmanpritom/heart-attack-analysis-prediction-dataset/discussion?select=heart.csv\n",
        "\n",
        "I got the dataset off of Kaggle. The data contains the follwoing columns: age, sex, cp, trtbps, chol, fbs, restecg, thalachh, exng, oldpeak, slp, caa, thall, and output. the Problem I will be trying to solve is to find the best algorithm to classify whether or not a person is at a high risk of heart attacks. The target variable for this experiment is going to be output, which states whether or not a person is at a high or low risk of a heart attack, where 1 = high risk and 0 = low risk.\n"
      ],
      "metadata": {
        "id": "LwseoUsMmCz2"
      }
    },
    {
      "cell_type": "markdown",
      "source": [
        "# 2. Data Preparation\n",
        "Explain your data preparation. What did you have to do to get your data in shape for your experiments? Why are you certain that you data is clean and prepared for use in your algorithms?"
      ],
      "metadata": {
        "id": "qR_foVOeQVL7"
      }
    },
    {
      "cell_type": "markdown",
      "source": [
        "##Explanation / Summary\n",
        "\n",
        "My first step in this process was selecting a dataset that had relevent columns as well as wasnt missing large null values, which I cam across often on Kaggle. The next step was checking if any of the datsets columns were null or served is unique identities and adjusting as necessary. There was no need to create dummies for htis dataset. Finally I created my train/test set and normalized the data. "
      ],
      "metadata": {
        "id": "sM8z_XvF-DSI"
      }
    },
    {
      "cell_type": "markdown",
      "source": [
        "##Steps of cleaning process"
      ],
      "metadata": {
        "id": "fs8YSsTHe2S_"
      }
    },
    {
      "cell_type": "markdown",
      "source": [
        " **Why Im sure that my data is clean:** there are no null values, any instances where I would need a dummy varable was already fixed in the dataset. I also normalized the data so no factors had values so high that they overshadowed other parts of the data. "
      ],
      "metadata": {
        "id": "4FEKdVHhB58W"
      }
    },
    {
      "cell_type": "markdown",
      "source": [
        "\n",
        "1. The first Step of my data prep process was finding a dataset that had both important columns and wasn't missing a massive amount of data or didnt ave data stored  as the incorrect data type , which I came across often on Kaggle while finding my dataset. While this wasn't part of me actually cleaning up the data I do think selecting my data was important to this process and should be noted. "
      ],
      "metadata": {
        "id": "aMDJDnW_mOWu"
      }
    },
    {
      "cell_type": "markdown",
      "source": [
        "2. Import the data"
      ],
      "metadata": {
        "id": "G52-FsZc6Zj_"
      }
    },
    {
      "cell_type": "code",
      "source": [
        "# load and prepare your data here\n",
        "from google.colab import drive\n",
        "import pandas as pd\n",
        "drive.mount('/content/drive')\n",
        "data= pd.read_csv('/content/drive/MyDrive/CS167Fall22/Datasets/heart.csv')\n",
        "data.head()"
      ],
      "metadata": {
        "id": "9dUdBChRmKxR",
        "colab": {
          "base_uri": "https://localhost:8080/",
          "height": 224
        },
        "outputId": "e6437a30-caa2-4290-8eb1-857743056072"
      },
      "execution_count": null,
      "outputs": [
        {
          "output_type": "stream",
          "name": "stdout",
          "text": [
            "Mounted at /content/drive\n"
          ]
        },
        {
          "output_type": "execute_result",
          "data": {
            "text/plain": [
              "   age  sex  cp  trtbps  chol  fbs  restecg  thalachh  exng  oldpeak  slp  \\\n",
              "0   63    1   3     145   233    1        0       150     0      2.3    0   \n",
              "1   37    1   2     130   250    0        1       187     0      3.5    0   \n",
              "2   41    0   1     130   204    0        0       172     0      1.4    2   \n",
              "3   56    1   1     120   236    0        1       178     0      0.8    2   \n",
              "4   57    0   0     120   354    0        1       163     1      0.6    2   \n",
              "\n",
              "   caa  thall  output  \n",
              "0    0      1       1  \n",
              "1    0      2       1  \n",
              "2    0      2       1  \n",
              "3    0      2       1  \n",
              "4    0      2       1  "
            ],
            "text/html": [
              "\n",
              "  <div id=\"df-da40a1eb-7d46-44fa-aad8-d2bbbcb190a9\">\n",
              "    <div class=\"colab-df-container\">\n",
              "      <div>\n",
              "<style scoped>\n",
              "    .dataframe tbody tr th:only-of-type {\n",
              "        vertical-align: middle;\n",
              "    }\n",
              "\n",
              "    .dataframe tbody tr th {\n",
              "        vertical-align: top;\n",
              "    }\n",
              "\n",
              "    .dataframe thead th {\n",
              "        text-align: right;\n",
              "    }\n",
              "</style>\n",
              "<table border=\"1\" class=\"dataframe\">\n",
              "  <thead>\n",
              "    <tr style=\"text-align: right;\">\n",
              "      <th></th>\n",
              "      <th>age</th>\n",
              "      <th>sex</th>\n",
              "      <th>cp</th>\n",
              "      <th>trtbps</th>\n",
              "      <th>chol</th>\n",
              "      <th>fbs</th>\n",
              "      <th>restecg</th>\n",
              "      <th>thalachh</th>\n",
              "      <th>exng</th>\n",
              "      <th>oldpeak</th>\n",
              "      <th>slp</th>\n",
              "      <th>caa</th>\n",
              "      <th>thall</th>\n",
              "      <th>output</th>\n",
              "    </tr>\n",
              "  </thead>\n",
              "  <tbody>\n",
              "    <tr>\n",
              "      <th>0</th>\n",
              "      <td>63</td>\n",
              "      <td>1</td>\n",
              "      <td>3</td>\n",
              "      <td>145</td>\n",
              "      <td>233</td>\n",
              "      <td>1</td>\n",
              "      <td>0</td>\n",
              "      <td>150</td>\n",
              "      <td>0</td>\n",
              "      <td>2.3</td>\n",
              "      <td>0</td>\n",
              "      <td>0</td>\n",
              "      <td>1</td>\n",
              "      <td>1</td>\n",
              "    </tr>\n",
              "    <tr>\n",
              "      <th>1</th>\n",
              "      <td>37</td>\n",
              "      <td>1</td>\n",
              "      <td>2</td>\n",
              "      <td>130</td>\n",
              "      <td>250</td>\n",
              "      <td>0</td>\n",
              "      <td>1</td>\n",
              "      <td>187</td>\n",
              "      <td>0</td>\n",
              "      <td>3.5</td>\n",
              "      <td>0</td>\n",
              "      <td>0</td>\n",
              "      <td>2</td>\n",
              "      <td>1</td>\n",
              "    </tr>\n",
              "    <tr>\n",
              "      <th>2</th>\n",
              "      <td>41</td>\n",
              "      <td>0</td>\n",
              "      <td>1</td>\n",
              "      <td>130</td>\n",
              "      <td>204</td>\n",
              "      <td>0</td>\n",
              "      <td>0</td>\n",
              "      <td>172</td>\n",
              "      <td>0</td>\n",
              "      <td>1.4</td>\n",
              "      <td>2</td>\n",
              "      <td>0</td>\n",
              "      <td>2</td>\n",
              "      <td>1</td>\n",
              "    </tr>\n",
              "    <tr>\n",
              "      <th>3</th>\n",
              "      <td>56</td>\n",
              "      <td>1</td>\n",
              "      <td>1</td>\n",
              "      <td>120</td>\n",
              "      <td>236</td>\n",
              "      <td>0</td>\n",
              "      <td>1</td>\n",
              "      <td>178</td>\n",
              "      <td>0</td>\n",
              "      <td>0.8</td>\n",
              "      <td>2</td>\n",
              "      <td>0</td>\n",
              "      <td>2</td>\n",
              "      <td>1</td>\n",
              "    </tr>\n",
              "    <tr>\n",
              "      <th>4</th>\n",
              "      <td>57</td>\n",
              "      <td>0</td>\n",
              "      <td>0</td>\n",
              "      <td>120</td>\n",
              "      <td>354</td>\n",
              "      <td>0</td>\n",
              "      <td>1</td>\n",
              "      <td>163</td>\n",
              "      <td>1</td>\n",
              "      <td>0.6</td>\n",
              "      <td>2</td>\n",
              "      <td>0</td>\n",
              "      <td>2</td>\n",
              "      <td>1</td>\n",
              "    </tr>\n",
              "  </tbody>\n",
              "</table>\n",
              "</div>\n",
              "      <button class=\"colab-df-convert\" onclick=\"convertToInteractive('df-da40a1eb-7d46-44fa-aad8-d2bbbcb190a9')\"\n",
              "              title=\"Convert this dataframe to an interactive table.\"\n",
              "              style=\"display:none;\">\n",
              "        \n",
              "  <svg xmlns=\"http://www.w3.org/2000/svg\" height=\"24px\"viewBox=\"0 0 24 24\"\n",
              "       width=\"24px\">\n",
              "    <path d=\"M0 0h24v24H0V0z\" fill=\"none\"/>\n",
              "    <path d=\"M18.56 5.44l.94 2.06.94-2.06 2.06-.94-2.06-.94-.94-2.06-.94 2.06-2.06.94zm-11 1L8.5 8.5l.94-2.06 2.06-.94-2.06-.94L8.5 2.5l-.94 2.06-2.06.94zm10 10l.94 2.06.94-2.06 2.06-.94-2.06-.94-.94-2.06-.94 2.06-2.06.94z\"/><path d=\"M17.41 7.96l-1.37-1.37c-.4-.4-.92-.59-1.43-.59-.52 0-1.04.2-1.43.59L10.3 9.45l-7.72 7.72c-.78.78-.78 2.05 0 2.83L4 21.41c.39.39.9.59 1.41.59.51 0 1.02-.2 1.41-.59l7.78-7.78 2.81-2.81c.8-.78.8-2.07 0-2.86zM5.41 20L4 18.59l7.72-7.72 1.47 1.35L5.41 20z\"/>\n",
              "  </svg>\n",
              "      </button>\n",
              "      \n",
              "  <style>\n",
              "    .colab-df-container {\n",
              "      display:flex;\n",
              "      flex-wrap:wrap;\n",
              "      gap: 12px;\n",
              "    }\n",
              "\n",
              "    .colab-df-convert {\n",
              "      background-color: #E8F0FE;\n",
              "      border: none;\n",
              "      border-radius: 50%;\n",
              "      cursor: pointer;\n",
              "      display: none;\n",
              "      fill: #1967D2;\n",
              "      height: 32px;\n",
              "      padding: 0 0 0 0;\n",
              "      width: 32px;\n",
              "    }\n",
              "\n",
              "    .colab-df-convert:hover {\n",
              "      background-color: #E2EBFA;\n",
              "      box-shadow: 0px 1px 2px rgba(60, 64, 67, 0.3), 0px 1px 3px 1px rgba(60, 64, 67, 0.15);\n",
              "      fill: #174EA6;\n",
              "    }\n",
              "\n",
              "    [theme=dark] .colab-df-convert {\n",
              "      background-color: #3B4455;\n",
              "      fill: #D2E3FC;\n",
              "    }\n",
              "\n",
              "    [theme=dark] .colab-df-convert:hover {\n",
              "      background-color: #434B5C;\n",
              "      box-shadow: 0px 1px 3px 1px rgba(0, 0, 0, 0.15);\n",
              "      filter: drop-shadow(0px 1px 2px rgba(0, 0, 0, 0.3));\n",
              "      fill: #FFFFFF;\n",
              "    }\n",
              "  </style>\n",
              "\n",
              "      <script>\n",
              "        const buttonEl =\n",
              "          document.querySelector('#df-da40a1eb-7d46-44fa-aad8-d2bbbcb190a9 button.colab-df-convert');\n",
              "        buttonEl.style.display =\n",
              "          google.colab.kernel.accessAllowed ? 'block' : 'none';\n",
              "\n",
              "        async function convertToInteractive(key) {\n",
              "          const element = document.querySelector('#df-da40a1eb-7d46-44fa-aad8-d2bbbcb190a9');\n",
              "          const dataTable =\n",
              "            await google.colab.kernel.invokeFunction('convertToInteractive',\n",
              "                                                     [key], {});\n",
              "          if (!dataTable) return;\n",
              "\n",
              "          const docLinkHtml = 'Like what you see? Visit the ' +\n",
              "            '<a target=\"_blank\" href=https://colab.research.google.com/notebooks/data_table.ipynb>data table notebook</a>'\n",
              "            + ' to learn more about interactive tables.';\n",
              "          element.innerHTML = '';\n",
              "          dataTable['output_type'] = 'display_data';\n",
              "          await google.colab.output.renderOutput(dataTable, element);\n",
              "          const docLink = document.createElement('div');\n",
              "          docLink.innerHTML = docLinkHtml;\n",
              "          element.appendChild(docLink);\n",
              "        }\n",
              "      </script>\n",
              "    </div>\n",
              "  </div>\n",
              "  "
            ]
          },
          "metadata": {},
          "execution_count": 2
        }
      ]
    },
    {
      "cell_type": "markdown",
      "source": [
        "3. Check for null values"
      ],
      "metadata": {
        "id": "rOiTRyFh7lz3"
      }
    },
    {
      "cell_type": "code",
      "source": [
        "data.isna().any()"
      ],
      "metadata": {
        "colab": {
          "base_uri": "https://localhost:8080/"
        },
        "id": "D4Hzh1Fq7iCB",
        "outputId": "1c7ff98e-007d-44d3-aac5-9c4b5a1d5b53"
      },
      "execution_count": null,
      "outputs": [
        {
          "output_type": "execute_result",
          "data": {
            "text/plain": [
              "age         False\n",
              "sex         False\n",
              "cp          False\n",
              "trtbps      False\n",
              "chol        False\n",
              "fbs         False\n",
              "restecg     False\n",
              "thalachh    False\n",
              "exng        False\n",
              "oldpeak     False\n",
              "slp         False\n",
              "caa         False\n",
              "thall       False\n",
              "output      False\n",
              "dtype: bool"
            ]
          },
          "metadata": {},
          "execution_count": 3
        }
      ]
    },
    {
      "cell_type": "markdown",
      "source": [
        "4. create train/test set and normalize"
      ],
      "metadata": {
        "id": "l4jHvI4R9Yl0"
      }
    },
    {
      "cell_type": "code",
      "source": [
        "from sklearn.model_selection import train_test_split\n",
        "\n",
        "from sklearn.metrics import accuracy_score\n",
        "\n",
        "from sklearn.decomposition import PCA\n",
        "\n",
        "target = \"output\"\n",
        "predictors = data.columns.drop(target) #gets all of the columns except the target\n",
        "\n",
        "train_data, test_data, train_sln, test_sln = train_test_split(data[predictors], data[target], test_size = 0.2, random_state=34)\n",
        "\n",
        "from sklearn.preprocessing import StandardScaler\n",
        "scaler = StandardScaler()\n",
        "scaler.fit(train_data)\n",
        "train_data_normalized = scaler.transform(train_data)\n",
        "test_data_normalized = scaler.transform(test_data)\n"
      ],
      "metadata": {
        "id": "tZeiagKE9X7I"
      },
      "execution_count": null,
      "outputs": []
    },
    {
      "cell_type": "markdown",
      "source": [
        "#3. Research\n",
        "Put your code and your experiments here."
      ],
      "metadata": {
        "id": "HXOK7dEljRg2"
      }
    },
    {
      "cell_type": "markdown",
      "source": [
        "My plan is to take multiple algorithms and maximize their accuracy by seeing what the best values for certain parameters are\n"
      ],
      "metadata": {
        "id": "5T0PB9xZMCMN"
      }
    },
    {
      "cell_type": "markdown",
      "source": [
        " ## **Random** **Forests**\n"
      ],
      "metadata": {
        "id": "o_2nxIO5Ay5N"
      }
    },
    {
      "cell_type": "markdown",
      "source": [
        "### 1. finding the baseline accuracy"
      ],
      "metadata": {
        "id": "rs7xX0zmbBiW"
      }
    },
    {
      "cell_type": "code",
      "source": [
        "from sklearn.ensemble import RandomForestClassifier \n",
        "from sklearn import metrics\n",
        "forest = RandomForestClassifier() \n",
        "forest.fit(train_data_normalized,train_sln)\n",
        "predictions = forest.predict(test_data_normalized)\n",
        "print(\"RANDOM FOREST accuracy score: \", metrics.accuracy_score(test_sln,predictions))"
      ],
      "metadata": {
        "colab": {
          "base_uri": "https://localhost:8080/"
        },
        "id": "kIe_FyxkbGia",
        "outputId": "471cd814-d3da-4940-e05c-4b66ec9aa125"
      },
      "execution_count": null,
      "outputs": [
        {
          "output_type": "stream",
          "name": "stdout",
          "text": [
            "RANDOM FOREST accuracy score:  0.8852459016393442\n"
          ]
        }
      ]
    },
    {
      "cell_type": "markdown",
      "source": [
        "###2. seeing which features are the most important"
      ],
      "metadata": {
        "id": "rZhZKXrSHhUR"
      }
    },
    {
      "cell_type": "code",
      "source": [
        "import matplotlib.pyplot as plt\n",
        "from sklearn import metrics \n",
        "\n",
        "from sklearn import tree\n",
        "\n",
        "# It looks like our random forest model achieved pretty good accuracy. \n",
        "# Now lets check how important each of the features was in the ensemble of models we built.\n",
        "\n",
        "import matplotlib.pyplot as plt\n",
        "%matplotlib inline\n",
        "forest = RandomForestClassifier(random_state = 0, n_estimators=100)\n",
        "forest.fit(train_data,train_sln)\n",
        "predictions = forest.predict(test_data)\n",
        "index = range(len(predictors)) #creates a list of numbers the right size to use as the index\n",
        "\n",
        "plt.figure(figsize=(8,10)) #making the table a bit bigger so the text is readable\n",
        "plt.barh(index,forest.feature_importances_,height=0.8) #horizontal bar chart\n",
        "plt.ylabel('Feature')\n",
        "plt.yticks(index,predictors) #put the feature names at the y tick marks\n",
        "plt.xlabel(\"Random Forest Feature Importance\")\n",
        "plt.show()\n",
        "\n",
        "     "
      ],
      "metadata": {
        "id": "XfaACsEOR4U5",
        "colab": {
          "base_uri": "https://localhost:8080/"
        },
        "outputId": "a3acf3c7-8f06-44e7-a6a4-a3ca924c4321"
      },
      "execution_count": null,
      "outputs": [
        {
          "output_type": "display_data",
          "data": {
            "text/plain": [
              "<Figure size 576x720 with 1 Axes>"
            ],
            "image/png": "[encoded data removed]"
          },
          "metadata": {
            "needs_background": "light"
          }
        }
      ]
    },
    {
      "cell_type": "markdown",
      "source": [
        "### 3. finding the optimal number of trees"
      ],
      "metadata": {
        "id": "Pfzh6yMTbNbF"
      }
    },
    {
      "cell_type": "code",
      "source": [
        "def tune_number_of_trees(n_estimator_values):\n",
        "    rf_accuracies = []\n",
        "\n",
        "    for n in n_estimator_values:\n",
        "\n",
        "        curr_rf = RandomForestClassifier(n_estimators=n, random_state=41)\n",
        "        curr_rf.fit(train_data_normalized,train_sln)\n",
        "        curr_predictions = curr_rf.predict(test_data_normalized)\n",
        "        curr_accuracy = metrics.accuracy_score(test_sln,curr_predictions)\n",
        "        rf_accuracies.append(curr_accuracy)\n",
        "\n",
        "\n",
        "    plt.suptitle('Random Forest accuracy vs. number of trees',fontsize=18)\n",
        "    plt.xlabel('# trees')\n",
        "    plt.ylabel('accuracy')\n",
        "    plt.plot(n_estimator_values,rf_accuracies,'ro-')\n",
        "    plt.axis([0,n_estimator_values[-1]+1,.8,1])\n",
        "\n",
        "    plt.show()\n",
        "    \n",
        "tune_number_of_trees(range(1,40))\n"
      ],
      "metadata": {
        "colab": {
          "base_uri": "https://localhost:8080/"
        },
        "id": "CgB5MKulM0td",
        "outputId": "ae9bd20f-fa3b-492a-fe8a-6a13dba3bc49"
      },
      "execution_count": null,
      "outputs": [
        {
          "output_type": "display_data",
          "data": {
            "text/plain": [
              "<Figure size 432x288 with 1 Axes>"
            ],
            "image/png": "[encoded data removed]"
          },
          "metadata": {
            "needs_background": "light"
          }
        }
      ]
    },
    {
      "cell_type": "markdown",
      "source": [
        "###4. Finding the optimal random_state"
      ],
      "metadata": {
        "id": "kks-YKS5a2cA"
      }
    },
    {
      "cell_type": "code",
      "source": [
        "def tune_random_state(n_estimator_values):\n",
        "    rf_accuracies = []\n",
        "\n",
        "    for n in n_estimator_values:\n",
        "\n",
        "        curr_rf = RandomForestClassifier(n_estimators=11, random_state=n)\n",
        "        curr_rf.fit(train_data_normalized,train_sln)\n",
        "        curr_predictions = curr_rf.predict(test_data_normalized)\n",
        "        curr_accuracy = metrics.accuracy_score(test_sln,curr_predictions)\n",
        "        rf_accuracies.append(curr_accuracy)\n",
        "\n",
        "\n",
        "    plt.suptitle('Random Forest accuracy vs. Random_State',fontsize=18)\n",
        "    plt.xlabel('Random_State')\n",
        "    plt.ylabel('accuracy')\n",
        "    plt.plot(n_estimator_values,rf_accuracies,'ro-')\n",
        "    plt.axis([0,n_estimator_values[-1]+1,.8,1])\n",
        "\n",
        "    plt.show()\n",
        "    \n",
        "tune_random_state(range(1,50))"
      ],
      "metadata": {
        "colab": {
          "base_uri": "https://localhost:8080/"
        },
        "id": "YcSmxGJPNnjP",
        "outputId": "2c42d516-1380-452b-ecbc-d4a86361b086"
      },
      "execution_count": null,
      "outputs": [
        {
          "output_type": "display_data",
          "data": {
            "text/plain": [
              "<Figure size 432x288 with 1 Axes>"
            ],
            "image/png": "[encoded data removed]"
          },
          "metadata": {
            "needs_background": "light"
          }
        }
      ]
    },
    {
      "cell_type": "markdown",
      "source": [
        "### 5. Creating the best RF algorithm given these two factors"
      ],
      "metadata": {
        "id": "Hky1R5ildn7D"
      }
    },
    {
      "cell_type": "code",
      "source": [
        "forest = RandomForestClassifier(random_state= 3, n_estimators= 8) \n",
        "forest.fit(train_data_normalized,train_sln)\n",
        "predictions = forest.predict(test_data_normalized)\n",
        "print(\"RANDOM FOREST accuracy score: \", metrics.accuracy_score(test_sln,predictions))\n",
        "\n",
        "\n"
      ],
      "metadata": {
        "colab": {
          "base_uri": "https://localhost:8080/"
        },
        "id": "yZRH6p1lOU4-",
        "outputId": "b1bdc7d5-1e67-4ce7-80c4-70cf18656460"
      },
      "execution_count": null,
      "outputs": [
        {
          "output_type": "stream",
          "name": "stdout",
          "text": [
            "RANDOM FOREST accuracy score:  0.9344262295081968\n"
          ]
        }
      ]
    },
    {
      "cell_type": "markdown",
      "source": [
        "FINDINGS\n",
        "- The optimal RandomForestClassifier for this dataset has a random state of 3 and 8 trees. This resulted in an accuracy of .9344\n",
        "- The random state did its best towards the biginning of the training set\n",
        "- #of trees is best at 8, 10, 11, 12 or 14. levels out at 24 "
      ],
      "metadata": {
        "id": "KrysHS4tqPQT"
      }
    },
    {
      "cell_type": "markdown",
      "source": [
        "##**SVC**"
      ],
      "metadata": {
        "id": "3jOmK7LSJrH3"
      }
    },
    {
      "cell_type": "markdown",
      "source": [
        "###1.  finding Baseline accuracy for the algorithm"
      ],
      "metadata": {
        "id": "ePx0ydwdZzv4"
      }
    },
    {
      "cell_type": "code",
      "source": [
        "from sklearn.svm import SVC\n",
        "\n",
        "clf = SVC()\n",
        "clf.fit(train_data_normalized,train_sln)\n",
        "predictions = clf.predict(test_data_normalized)\n",
        "\n",
        "#output accuracy\n",
        "print(\"accuracy:\", metrics.accuracy_score(test_sln, predictions))\n"
      ],
      "metadata": {
        "colab": {
          "base_uri": "https://localhost:8080/"
        },
        "id": "LVvXSut5Jqnu",
        "outputId": "bc1d98a7-bd04-4dbb-8757-8ec9735bcca5"
      },
      "execution_count": null,
      "outputs": [
        {
          "output_type": "stream",
          "name": "stdout",
          "text": [
            "accuracy: 0.8688524590163934\n"
          ]
        }
      ]
    },
    {
      "cell_type": "markdown",
      "source": [
        "###2. Kernel Tests"
      ],
      "metadata": {
        "id": "F9N2ekM3fCye"
      }
    },
    {
      "cell_type": "markdown",
      "source": [
        "> linear kernel "
      ],
      "metadata": {
        "id": "fEMafBYahv8H"
      }
    },
    {
      "cell_type": "code",
      "source": [
        "from sklearn.svm import SVC\n",
        "\n",
        "clf = SVC(kernel = \"linear\")\n",
        "clf.fit(train_data_normalized,train_sln)\n",
        "predictions = clf.predict(test_data_normalized)\n",
        "\n",
        "#output accuracy\n",
        "print(\"accuracy:\", metrics.accuracy_score(test_sln, predictions))"
      ],
      "metadata": {
        "colab": {
          "base_uri": "https://localhost:8080/"
        },
        "id": "nC6VOm9PhkAR",
        "outputId": "cc061e4e-e703-40b1-a100-448a9c88ce9a"
      },
      "execution_count": null,
      "outputs": [
        {
          "output_type": "stream",
          "name": "stdout",
          "text": [
            "accuracy: 0.8688524590163934\n"
          ]
        }
      ]
    },
    {
      "cell_type": "markdown",
      "source": [
        "> rbf (default) "
      ],
      "metadata": {
        "id": "pY16WdODiXiM"
      }
    },
    {
      "cell_type": "code",
      "source": [
        "from sklearn.svm import SVC\n",
        "\n",
        "clf = SVC(kernel = \"rbf\")\n",
        "clf.fit(train_data_normalized,train_sln)\n",
        "predictions = clf.predict(test_data_normalized)\n",
        "\n",
        "#output accuracy\n",
        "print(\"accuracy:\", metrics.accuracy_score(test_sln, predictions))"
      ],
      "metadata": {
        "colab": {
          "base_uri": "https://localhost:8080/"
        },
        "id": "ZKTb46VDh-71",
        "outputId": "37242031-00e1-4d6b-c63d-4ed2a92e3506"
      },
      "execution_count": null,
      "outputs": [
        {
          "output_type": "stream",
          "name": "stdout",
          "text": [
            "accuracy: 0.8688524590163934\n"
          ]
        }
      ]
    },
    {
      "cell_type": "markdown",
      "source": [
        "> poly"
      ],
      "metadata": {
        "id": "Zf5PGNeTibuz"
      }
    },
    {
      "cell_type": "code",
      "source": [
        "from sklearn.svm import SVC\n",
        "\n",
        "clf = SVC(kernel = 'poly')\n",
        "clf.fit(train_data_normalized,train_sln)\n",
        "predictions = clf.predict(test_data_normalized)\n",
        "\n",
        "#output accuracy\n",
        "print(\"accuracy:\", metrics.accuracy_score(test_sln, predictions))"
      ],
      "metadata": {
        "colab": {
          "base_uri": "https://localhost:8080/"
        },
        "id": "afcZrnydgoms",
        "outputId": "ea314d76-d001-4fef-9395-aff0eca6793f"
      },
      "execution_count": null,
      "outputs": [
        {
          "output_type": "stream",
          "name": "stdout",
          "text": [
            "accuracy: 0.8688524590163934\n"
          ]
        }
      ]
    },
    {
      "cell_type": "markdown",
      "source": [
        "###3. Finding optimal C"
      ],
      "metadata": {
        "id": "w0N2UKXXiegD"
      }
    },
    {
      "cell_type": "code",
      "source": [
        "def optimal_c(n_estimator_values):\n",
        "    rf_accuracies = []\n",
        "    \n",
        "    for n in n_estimator_values:\n",
        "        if n == 0: \n",
        "            n = 1\n",
        "        curr_rf = SVC(C = n)\n",
        "        curr_rf.fit(train_data_normalized,train_sln)\n",
        "        curr_predictions = curr_rf.predict(test_data_normalized)\n",
        "        curr_accuracy = metrics.accuracy_score(test_sln,curr_predictions)\n",
        "        rf_accuracies.append(curr_accuracy)\n",
        "\n",
        "\n",
        "    plt.suptitle('SVC Accuracy vs. C',fontsize=18)\n",
        "    plt.xlabel('C')\n",
        "    plt.ylabel('accuracy')\n",
        "    plt.plot(n_estimator_values,rf_accuracies,'ro-')\n",
        "    plt.axis([0,n_estimator_values[-1]+1,.6,1])\n",
        "\n",
        "    plt.show()\n",
        "    \n",
        "optimal_c(range(1,40))"
      ],
      "metadata": {
        "colab": {
          "base_uri": "https://localhost:8080/",
          "height": 308
        },
        "id": "1an3szODjQ2Y",
        "outputId": "09f09f3e-9984-4d94-e8bc-8de9d762be50"
      },
      "execution_count": null,
      "outputs": [
        {
          "output_type": "display_data",
          "data": {
            "text/plain": [
              "<Figure size 432x288 with 1 Axes>"
            ],
            "image/png": "[encoded data removed]"
          },
          "metadata": {
            "needs_background": "light"
          }
        }
      ]
    },
    {
      "cell_type": "markdown",
      "source": [
        "###4.  Optimal Gamma"
      ],
      "metadata": {
        "id": "2JTsbetdmIv6"
      }
    },
    {
      "cell_type": "code",
      "source": [
        "def optimal_gamma(n_estimator_values):\n",
        "    rf_accuracies = []\n",
        "    \n",
        "    for n in n_estimator_values:\n",
        "        if n == 0: \n",
        "            n = 1\n",
        "        curr_rf = SVC(gamma = n)\n",
        "        curr_rf.fit(train_data_normalized,train_sln)\n",
        "        curr_predictions = curr_rf.predict(test_data_normalized)\n",
        "        curr_accuracy = metrics.accuracy_score(test_sln,curr_predictions)\n",
        "        rf_accuracies.append(curr_accuracy)\n",
        "\n",
        "\n",
        "    plt.suptitle('SVC Accuracy vs. gamma',fontsize=18)\n",
        "    plt.xlabel('gamma')\n",
        "    plt.ylabel('accuracy')\n",
        "    plt.plot(n_estimator_values,rf_accuracies,'ro-')\n",
        "    plt.axis([0,n_estimator_values[-1]+1,.5,1])\n",
        "\n",
        "    plt.show()\n",
        "    \n",
        "optimal_gamma(range(1,40))"
      ],
      "metadata": {
        "colab": {
          "base_uri": "https://localhost:8080/",
          "height": 308
        },
        "id": "O50UALXDmOzO",
        "outputId": "ea9ea640-961a-4da5-a1c3-3f96980a5c5f"
      },
      "execution_count": null,
      "outputs": [
        {
          "output_type": "display_data",
          "data": {
            "text/plain": [
              "<Figure size 432x288 with 1 Axes>"
            ],
            "image/png": "[encoded data removed]"
          },
          "metadata": {
            "needs_background": "light"
          }
        }
      ]
    },
    {
      "cell_type": "markdown",
      "source": [
        "### Making the Best SVC given the optimal perameters"
      ],
      "metadata": {
        "id": "eZw57HWHnqOJ"
      }
    },
    {
      "cell_type": "code",
      "source": [
        "clf = SVC()\n",
        "clf.fit(train_data_normalized,train_sln)\n",
        "predictions = clf.predict(test_data_normalized)\n",
        "\n",
        "#output accuracy\n",
        "print(\"accuracy:\", metrics.accuracy_score(test_sln, predictions))"
      ],
      "metadata": {
        "colab": {
          "base_uri": "https://localhost:8080/"
        },
        "id": "bXz9qgqKomU6",
        "outputId": "992cfb6c-3160-4efa-d67f-ae9214d0e8f4"
      },
      "execution_count": null,
      "outputs": [
        {
          "output_type": "stream",
          "name": "stdout",
          "text": [
            "accuracy: 0.8688524590163934\n"
          ]
        }
      ]
    },
    {
      "cell_type": "markdown",
      "source": [
        "> Findings:\n",
        "- SVC works best at the baseline (.8689 accuracy) \n",
        "- Kernel has no effect\n",
        "- Gamma and C only hurt the accuracy"
      ],
      "metadata": {
        "id": "nWNbjcj-otJW"
      }
    },
    {
      "cell_type": "markdown",
      "source": [
        "## **Perceptron** "
      ],
      "metadata": {
        "id": "kpMp6gypbkou"
      }
    },
    {
      "cell_type": "markdown",
      "source": [
        "###1. Perceptron Baseline"
      ],
      "metadata": {
        "id": "A3Ifye22brBZ"
      }
    },
    {
      "cell_type": "code",
      "source": [
        "from sklearn.linear_model import Perceptron\n",
        "\n",
        "import warnings\n",
        "warnings.filterwarnings(\"ignore\")\n",
        "\n",
        "perc = Perceptron()\n",
        "perc.fit(train_data_normalized,train_sln)\n",
        "predictions = perc.predict(test_data_normalized)\n",
        "\n",
        "#output accuracy\n",
        "print(\"accuracy:\", metrics.accuracy_score(test_sln, predictions))"
      ],
      "metadata": {
        "colab": {
          "base_uri": "https://localhost:8080/"
        },
        "id": "tugs7ciUrKAv",
        "outputId": "2d55b9e8-5c30-4f37-8232-32a4625d594e"
      },
      "execution_count": null,
      "outputs": [
        {
          "output_type": "stream",
          "name": "stdout",
          "text": [
            "accuracy: 0.9016393442622951\n"
          ]
        }
      ]
    },
    {
      "cell_type": "markdown",
      "source": [
        "### 2. Optimal Random State"
      ],
      "metadata": {
        "id": "MdInFb0UIIGz"
      }
    },
    {
      "cell_type": "code",
      "source": [
        "def optimal_ra(n_estimator_values):\n",
        "    rf_accuracies = []\n",
        "    \n",
        "    for n in n_estimator_values:\n",
        "        if n == 0: \n",
        "            n = 1\n",
        "        curr_rf = Perceptron(random_state = n)\n",
        "        curr_rf.fit(train_data_normalized,train_sln)\n",
        "        curr_predictions = curr_rf.predict(test_data_normalized)\n",
        "        curr_accuracy = metrics.accuracy_score(test_sln,curr_predictions)\n",
        "        rf_accuracies.append(curr_accuracy)\n",
        "\n",
        "\n",
        "    plt.suptitle('Perceptron Accuracy vs. Random State',fontsize=18)\n",
        "    plt.xlabel('Random State')\n",
        "    plt.ylabel('accuracy')\n",
        "    plt.plot(n_estimator_values,rf_accuracies,'ro-')\n",
        "    plt.axis([0,n_estimator_values[-1]+1,.6,1])\n",
        "\n",
        "    plt.show()\n",
        "    \n",
        "optimal_ra(range(1,34))"
      ],
      "metadata": {
        "colab": {
          "base_uri": "https://localhost:8080/",
          "height": 308
        },
        "id": "nVMzFVLP3PNZ",
        "outputId": "f2cdb7b1-0fbe-4260-9aac-ac15c2914c65"
      },
      "execution_count": null,
      "outputs": [
        {
          "output_type": "display_data",
          "data": {
            "text/plain": [
              "<Figure size 432x288 with 1 Axes>"
            ],
            "image/png": "[encoded data removed]"
          },
          "metadata": {
            "needs_background": "light"
          }
        }
      ]
    },
    {
      "cell_type": "markdown",
      "source": [
        "###3.  Optimal Max iter "
      ],
      "metadata": {
        "id": "aPkFkbgYJIPt"
      }
    },
    {
      "cell_type": "code",
      "source": [
        "def optimal_ra(n_estimator_values):\n",
        "    rf_accuracies = []\n",
        "    \n",
        "    for n in n_estimator_values:\n",
        "        if n == 0: \n",
        "            n = 1\n",
        "        curr_rf = Perceptron(random_state = 34 , max_iter = n)\n",
        "        curr_rf.fit(train_data_normalized,train_sln)\n",
        "        curr_predictions = curr_rf.predict(test_data_normalized)\n",
        "        curr_accuracy = metrics.accuracy_score(test_sln,curr_predictions)\n",
        "        rf_accuracies.append(curr_accuracy)\n",
        "\n",
        "\n",
        "    plt.suptitle('Perceptron Accuracy vs. Max_iter',fontsize=18)\n",
        "    plt.xlabel('Random State')\n",
        "    plt.ylabel('accuracy')\n",
        "    plt.plot(n_estimator_values,rf_accuracies,'ro-')\n",
        "    plt.axis([0,n_estimator_values[-1]+1,.6,1])\n",
        "\n",
        "    plt.show()\n",
        "    \n",
        "optimal_ra(range(1,40))"
      ],
      "metadata": {
        "colab": {
          "base_uri": "https://localhost:8080/",
          "height": 308
        },
        "id": "EtF62opXJH_l",
        "outputId": "73745464-90cd-4dfd-c36e-8edf2813c8ee"
      },
      "execution_count": null,
      "outputs": [
        {
          "output_type": "display_data",
          "data": {
            "text/plain": [
              "<Figure size 432x288 with 1 Axes>"
            ],
            "image/png": "[encoded data removed]"
          },
          "metadata": {
            "needs_background": "light"
          }
        }
      ]
    },
    {
      "cell_type": "markdown",
      "source": [
        "### 4. Best Perceptron\n"
      ],
      "metadata": {
        "id": "qvY8-Lm-SjxM"
      }
    },
    {
      "cell_type": "code",
      "source": [
        "from sklearn.linear_model import Perceptron\n",
        "\n",
        "import warnings\n",
        "warnings.filterwarnings(\"ignore\")\n",
        "\n",
        "perc = Perceptron()\n",
        "perc.fit(train_data_normalized,train_sln)\n",
        "redictions = perc.predict(test_data_normalized)\n",
        "\n",
        "#output accuracy\n",
        "print(\"accuracy:\", metrics.accuracy_score(test_sln,predictions))"
      ],
      "metadata": {
        "colab": {
          "base_uri": "https://localhost:8080/"
        },
        "id": "Izvep4bxVbHH",
        "outputId": "2c4997f5-c70d-4ef6-9e1d-8e16f2d7d631"
      },
      "execution_count": null,
      "outputs": [
        {
          "output_type": "stream",
          "name": "stdout",
          "text": [
            "accuracy: 0.9016393442622951\n"
          ]
        }
      ]
    },
    {
      "cell_type": "markdown",
      "source": [
        "> Findings \n",
        "  - the best highest accuracy I found was the baseline\n",
        "  - I tried messing around with other parameters but they either did nothing to the function or decreased the accuracy. \n",
        "\n"
      ],
      "metadata": {
        "id": "9kPaQGTkWM93"
      }
    },
    {
      "cell_type": "markdown",
      "source": [
        "##**SGD**"
      ],
      "metadata": {
        "id": "hrOpnzAaKP22"
      }
    },
    {
      "cell_type": "markdown",
      "source": [
        "### 1. baseline SGD accuracy"
      ],
      "metadata": {
        "id": "A0KsOmhacBxC"
      }
    },
    {
      "cell_type": "code",
      "source": [
        "from sklearn.linear_model import SGDClassifier\n",
        "\n",
        "sgd = SGDClassifier(random_state = 0)\n",
        "sgd.fit(train_data_normalized,train_sln)\n",
        "sgd_predictions = sgd.predict(test_data_normalized)\n",
        "\n",
        "print(\"accuracy:\", metrics.accuracy_score(test_sln, sgd_predictions))\n"
      ],
      "metadata": {
        "colab": {
          "base_uri": "https://localhost:8080/"
        },
        "id": "mwctF65fKVcW",
        "outputId": "89b4cfd0-a2d7-480c-f51c-4331c4fba911"
      },
      "execution_count": null,
      "outputs": [
        {
          "output_type": "stream",
          "name": "stdout",
          "text": [
            "accuracy: 0.7704918032786885\n"
          ]
        }
      ]
    },
    {
      "cell_type": "markdown",
      "source": [
        "### 2. Penalty "
      ],
      "metadata": {
        "id": "SpImu1_3aWkC"
      }
    },
    {
      "cell_type": "code",
      "source": [
        "from sklearn.linear_model import SGDClassifier\n",
        "\n",
        "sgd = SGDClassifier( random_state = 0,  penalty = \"l1\")\n",
        "sgd.fit(train_data_normalized,train_sln)\n",
        "sgd_predictions = sgd.predict(test_data_normalized)\n",
        "\n",
        "print(\"accuracy:\", metrics.accuracy_score(test_sln, sgd_predictions))\n"
      ],
      "metadata": {
        "colab": {
          "base_uri": "https://localhost:8080/"
        },
        "id": "EvLlnRkEXpbZ",
        "outputId": "02927ab7-4d2d-475e-c8be-9cd8613c74ba"
      },
      "execution_count": null,
      "outputs": [
        {
          "output_type": "stream",
          "name": "stdout",
          "text": [
            "accuracy: 0.8688524590163934\n"
          ]
        }
      ]
    },
    {
      "cell_type": "code",
      "source": [
        "from sklearn.linear_model import SGDClassifier\n",
        "\n",
        "sgd = SGDClassifier( random_state = 0,  penalty = \"elasticnet\")\n",
        "sgd.fit(train_data_normalized,train_sln)\n",
        "sgd_predictions = sgd.predict(test_data_normalized)\n",
        "\n",
        "print(\"accuracy:\", metrics.accuracy_score(test_sln, sgd_predictions))"
      ],
      "metadata": {
        "colab": {
          "base_uri": "https://localhost:8080/"
        },
        "id": "yT7juNdrYls7",
        "outputId": "417e9a5f-e0a6-4fc9-9d44-1d41a7160b23"
      },
      "execution_count": null,
      "outputs": [
        {
          "output_type": "stream",
          "name": "stdout",
          "text": [
            "accuracy: 0.8524590163934426\n"
          ]
        }
      ]
    },
    {
      "cell_type": "code",
      "source": [
        "from sklearn.linear_model import SGDClassifier\n",
        "\n",
        "sgd = SGDClassifier( random_state = 0,  penalty = \"None\")\n",
        "sgd.fit(train_data_normalized,train_sln)\n",
        "sgd_predictions = sgd.predict(test_data_normalized)\n",
        "\n",
        "print(\"accuracy:\", metrics.accuracy_score(test_sln, sgd_predictions))"
      ],
      "metadata": {
        "colab": {
          "base_uri": "https://localhost:8080/"
        },
        "id": "XTfwpFf3bBep",
        "outputId": "f3627a81-a151-4b8b-cbff-7c9ff667cbfd"
      },
      "execution_count": null,
      "outputs": [
        {
          "output_type": "stream",
          "name": "stdout",
          "text": [
            "accuracy: 0.8360655737704918\n"
          ]
        }
      ]
    },
    {
      "cell_type": "markdown",
      "source": [
        "###3. Loss  \n"
      ],
      "metadata": {
        "id": "YYiIfI50bNQs"
      }
    },
    {
      "cell_type": "code",
      "source": [
        "from sklearn.linear_model import SGDClassifier\n",
        "\n",
        "sgd = SGDClassifier( random_state = 0,  penalty = \"l1\", loss = \"hinge\")\n",
        "sgd.fit(train_data_normalized,train_sln)\n",
        "sgd_predictions = sgd.predict(test_data_normalized)\n",
        "\n",
        "print(\"accuracy:\", metrics.accuracy_score(test_sln, sgd_predictions))"
      ],
      "metadata": {
        "colab": {
          "base_uri": "https://localhost:8080/"
        },
        "id": "lldgYKaPcFbX",
        "outputId": "b071d7c8-5357-4737-9b8a-5e96dbc6fe6d"
      },
      "execution_count": null,
      "outputs": [
        {
          "output_type": "stream",
          "name": "stdout",
          "text": [
            "accuracy: 0.8688524590163934\n"
          ]
        }
      ]
    },
    {
      "cell_type": "code",
      "source": [
        "from sklearn.linear_model import SGDClassifier\n",
        "\n",
        "sgd = SGDClassifier( random_state = 0,  penalty = \"l1\", loss = \"log\")\n",
        "sgd.fit(train_data_normalized,train_sln)\n",
        "sgd_predictions = sgd.predict(test_data_normalized)\n",
        "\n",
        "print(\"accuracy:\", metrics.accuracy_score(test_sln, sgd_predictions))"
      ],
      "metadata": {
        "colab": {
          "base_uri": "https://localhost:8080/"
        },
        "id": "cmVWvGnIeXQH",
        "outputId": "ff71082b-75f5-4c73-af04-cdfc24f49b60"
      },
      "execution_count": null,
      "outputs": [
        {
          "output_type": "stream",
          "name": "stdout",
          "text": [
            "accuracy: 0.9016393442622951\n"
          ]
        }
      ]
    },
    {
      "cell_type": "code",
      "source": [
        "from sklearn.linear_model import SGDClassifier\n",
        "\n",
        "sgd = SGDClassifier( random_state = 0,  penalty = \"l1\", loss = \"modified_huber\")\n",
        "sgd.fit(train_data_normalized,train_sln)\n",
        "sgd_predictions = sgd.predict(test_data_normalized)\n",
        "\n",
        "print(\"accuracy:\", metrics.accuracy_score(test_sln, sgd_predictions))"
      ],
      "metadata": {
        "colab": {
          "base_uri": "https://localhost:8080/"
        },
        "id": "dfXidDXgegyI",
        "outputId": "28c581af-9aa1-4ed1-d9bc-eff7a00e82bc"
      },
      "execution_count": null,
      "outputs": [
        {
          "output_type": "stream",
          "name": "stdout",
          "text": [
            "accuracy: 0.8852459016393442\n"
          ]
        }
      ]
    },
    {
      "cell_type": "code",
      "source": [
        "from sklearn.linear_model import SGDClassifier\n",
        "\n",
        "sgd = SGDClassifier( random_state = 0,  penalty = \"l1\", loss = \"squared_hinge\") \n",
        "sgd.fit(train_data_normalized,train_sln)\n",
        "sgd_predictions = sgd.predict(test_data_normalized)\n",
        "\n",
        "print(\"accuracy:\", metrics.accuracy_score(test_sln, sgd_predictions))"
      ],
      "metadata": {
        "colab": {
          "base_uri": "https://localhost:8080/"
        },
        "id": "F14KDY2iktLU",
        "outputId": "d2fd0286-3a75-41e8-f37b-e53f8c0b29db"
      },
      "execution_count": null,
      "outputs": [
        {
          "output_type": "stream",
          "name": "stdout",
          "text": [
            "accuracy: 0.8032786885245902\n"
          ]
        }
      ]
    },
    {
      "cell_type": "code",
      "source": [
        "from sklearn.linear_model import SGDClassifier\n",
        "\n",
        "sgd = SGDClassifier( random_state = 0,  penalty = \"l1\", loss = \"perceptron\") \n",
        "sgd.fit(train_data_normalized,train_sln)\n",
        "sgd_predictions = sgd.predict(test_data_normalized)\n",
        "\n",
        "print(\"accuracy:\", metrics.accuracy_score(test_sln, sgd_predictions))"
      ],
      "metadata": {
        "colab": {
          "base_uri": "https://localhost:8080/"
        },
        "id": "utACLXKxk5m8",
        "outputId": "b766b932-eaa1-47ea-c922-f2c753d70dda"
      },
      "execution_count": null,
      "outputs": [
        {
          "output_type": "stream",
          "name": "stdout",
          "text": [
            "accuracy: 0.7704918032786885\n"
          ]
        }
      ]
    },
    {
      "cell_type": "code",
      "source": [
        "from sklearn.linear_model import SGDClassifier\n",
        "\n",
        "sgd = SGDClassifier( random_state = 0,  penalty = \"l1\", loss = \"huber\") \n",
        "sgd.fit(train_data_normalized,train_sln)\n",
        "sgd_predictions = sgd.predict(test_data_normalized)\n",
        "\n",
        "print(\"accuracy:\", metrics.accuracy_score(test_sln, sgd_predictions))"
      ],
      "metadata": {
        "colab": {
          "base_uri": "https://localhost:8080/"
        },
        "id": "BAAbq7CKlAAc",
        "outputId": "a3cfe394-a82d-4603-eef0-9a51dae85dcf"
      },
      "execution_count": null,
      "outputs": [
        {
          "output_type": "stream",
          "name": "stdout",
          "text": [
            "accuracy: 0.8360655737704918\n"
          ]
        }
      ]
    },
    {
      "cell_type": "code",
      "source": [
        "from sklearn.linear_model import SGDClassifier\n",
        "\n",
        "sgd = SGDClassifier( random_state = 0,  penalty = \"l1\", loss = \"epsilon_insensitive\") \n",
        "sgd.fit(train_data_normalized,train_sln)\n",
        "sgd_predictions = sgd.predict(test_data_normalized)\n",
        "\n",
        "print(\"accuracy:\", metrics.accuracy_score(test_sln, sgd_predictions))"
      ],
      "metadata": {
        "colab": {
          "base_uri": "https://localhost:8080/"
        },
        "id": "ZgDjmaaulaOy",
        "outputId": "d95b66c4-1642-4663-cc70-ec293ade4843"
      },
      "execution_count": null,
      "outputs": [
        {
          "output_type": "stream",
          "name": "stdout",
          "text": [
            "accuracy: 0.6065573770491803\n"
          ]
        }
      ]
    },
    {
      "cell_type": "markdown",
      "source": [
        "### 4. Learning Rate"
      ],
      "metadata": {
        "id": "MuLvnWs3mW8I"
      }
    },
    {
      "cell_type": "code",
      "source": [
        "from sklearn.linear_model import SGDClassifier\n",
        "\n",
        "sgd = SGDClassifier( random_state = 0,  penalty = \"l1\", loss = \"log\", learning_rate = \"constant\", eta0 = .5)\n",
        "sgd.fit(train_data_normalized,train_sln)\n",
        "sgd_predictions = sgd.predict(test_data_normalized)\n",
        "\n",
        "print(\"accuracy:\", metrics.accuracy_score(test_sln, sgd_predictions))"
      ],
      "metadata": {
        "colab": {
          "base_uri": "https://localhost:8080/"
        },
        "id": "k604TgMLmbCR",
        "outputId": "2531764e-3f3d-47ac-b299-013c6d63e314"
      },
      "execution_count": null,
      "outputs": [
        {
          "output_type": "stream",
          "name": "stdout",
          "text": [
            "accuracy: 0.9180327868852459\n"
          ]
        }
      ]
    },
    {
      "cell_type": "code",
      "source": [
        "from sklearn.linear_model import SGDClassifier\n",
        "\n",
        "sgd = SGDClassifier( random_state = 0,  penalty = \"l1\", loss = \"log\", learning_rate = \"invscaling\", eta0 = .5)\n",
        "sgd.fit(train_data_normalized,train_sln)\n",
        "sgd_predictions = sgd.predict(test_data_normalized)\n",
        "\n",
        "print(\"accuracy:\", metrics.accuracy_score(test_sln, sgd_predictions))"
      ],
      "metadata": {
        "colab": {
          "base_uri": "https://localhost:8080/"
        },
        "id": "pXyRolxmmrOC",
        "outputId": "4c1680ed-1a78-4435-d8a6-715388586b4c"
      },
      "execution_count": null,
      "outputs": [
        {
          "output_type": "stream",
          "name": "stdout",
          "text": [
            "accuracy: 0.8524590163934426\n"
          ]
        }
      ]
    },
    {
      "cell_type": "code",
      "source": [
        "sgd = SGDClassifier( random_state = 0,  penalty = \"l1\", loss = \"log\", learning_rate = \"adaptive\", eta0 = .5)\n",
        "sgd.fit(train_data_normalized,train_sln)\n",
        "sgd_predictions = sgd.predict(test_data_normalized)\n",
        "\n",
        "print(\"accuracy:\", metrics.accuracy_score(test_sln, sgd_predictions))"
      ],
      "metadata": {
        "colab": {
          "base_uri": "https://localhost:8080/"
        },
        "id": "QeDzy9t-nV8c",
        "outputId": "9aebd2d3-7d06-48e9-93b1-7ce84cdc195a"
      },
      "execution_count": null,
      "outputs": [
        {
          "output_type": "stream",
          "name": "stdout",
          "text": [
            "accuracy: 0.8524590163934426\n"
          ]
        }
      ]
    },
    {
      "cell_type": "markdown",
      "source": [
        "### 5. Optimal Max iter"
      ],
      "metadata": {
        "id": "q4yCklCGlndk"
      }
    },
    {
      "cell_type": "markdown",
      "source": [
        "- Wasn't able to make a graph work for this. my error read that sgd couldn't be called inside of the function "
      ],
      "metadata": {
        "id": "Ro0mKlIVqg-t"
      }
    },
    {
      "cell_type": "code",
      "source": [
        "sgd = SGDClassifier( random_state = 0,  penalty = \"l1\", loss = \"log\", learning_rate = \"constant\", eta0 = .5, max_iter = 7)\n",
        "sgd.fit(train_data_normalized,train_sln)\n",
        "sgd_predictions = sgd.predict(test_data_normalized)\n",
        "\n",
        "print(\"accuracy:\", metrics.accuracy_score(test_sln, sgd_predictions))"
      ],
      "metadata": {
        "colab": {
          "base_uri": "https://localhost:8080/"
        },
        "id": "EnrpU7VFlllE",
        "outputId": "f639b792-2d11-4320-fbb0-7cb9f92a8190"
      },
      "execution_count": null,
      "outputs": [
        {
          "output_type": "stream",
          "name": "stdout",
          "text": [
            "accuracy: 0.9180327868852459\n"
          ]
        }
      ]
    },
    {
      "cell_type": "markdown",
      "source": [
        "###6. Best SGD"
      ],
      "metadata": {
        "id": "E5iclDYGpdub"
      }
    },
    {
      "cell_type": "code",
      "source": [
        "sgd = SGDClassifier( random_state = 0,  penalty = \"l1\", loss = \"log\", learning_rate = \"constant\", eta0 = .5, max_iter = 7)\n",
        "sgd.fit(train_data_normalized,train_sln)\n",
        "sgd_predictions = sgd.predict(test_data_normalized)\n",
        "\n",
        "print(\"accuracy:\", metrics.accuracy_score(test_sln, sgd_predictions))"
      ],
      "metadata": {
        "colab": {
          "base_uri": "https://localhost:8080/"
        },
        "id": "e2AKbX2kpiMv",
        "outputId": "6559c731-e335-4c31-d871-ed898df77edd"
      },
      "execution_count": null,
      "outputs": [
        {
          "output_type": "stream",
          "name": "stdout",
          "text": [
            "accuracy: 0.9180327868852459\n"
          ]
        }
      ]
    },
    {
      "cell_type": "markdown",
      "source": [
        "> findings \n",
        "- the best SGD had penalty = l1 loss = log, learning_rate = constant( with eta0 = .5) and an accuracy of .9180\n",
        "- max_iter leveled out at about 7 "
      ],
      "metadata": {
        "id": "PgRdAcbgpjlD"
      }
    },
    {
      "cell_type": "markdown",
      "source": [
        "##**MLP**"
      ],
      "metadata": {
        "id": "krt7XRrVKQ-o"
      }
    },
    {
      "cell_type": "markdown",
      "source": [
        "###1. MLP baseline accuracy"
      ],
      "metadata": {
        "id": "iqdRAYHUcKT_"
      }
    },
    {
      "cell_type": "code",
      "source": [
        "from sklearn.neural_network import MLPClassifier\n",
        "from sklearn import metrics\n",
        "\n",
        "mlp = MLPClassifier(random_state = 0 )\n",
        "mlp.fit(train_data_normalized,train_sln)\n",
        "predictions = mlp.predict(test_data_normalized)\n",
        "\n",
        "print(\"MLP accuracy:\", metrics.accuracy_score(test_sln, predictions))"
      ],
      "metadata": {
        "colab": {
          "base_uri": "https://localhost:8080/"
        },
        "id": "qxq6T2FJKVDd",
        "outputId": "6420849b-5069-4aaa-e04a-e4555cb43c50"
      },
      "execution_count": null,
      "outputs": [
        {
          "output_type": "stream",
          "name": "stdout",
          "text": [
            "MLP accuracy: 0.9016393442622951\n"
          ]
        }
      ]
    },
    {
      "cell_type": "markdown",
      "source": [
        "### 2. Solver"
      ],
      "metadata": {
        "id": "MZb9FG6urN3Y"
      }
    },
    {
      "cell_type": "markdown",
      "source": [
        "was not able to create graphs for mlp, error said mlp wasn't callable in the function to make a graph"
      ],
      "metadata": {
        "id": "ob6tHUIXrv93"
      }
    },
    {
      "cell_type": "code",
      "source": [
        "from sklearn.neural_network import MLPClassifier\n",
        "from sklearn import metrics\n",
        "\n",
        "mlp = MLPClassifier(random_state = 0, solver = 'lbfgs' )\n",
        "mlp.fit(train_data_normalized,train_sln)\n",
        "predictions = mlp.predict(test_data_normalized)\n",
        "\n",
        "print(\"MLP accuracy:\", metrics.accuracy_score(test_sln, predictions))"
      ],
      "metadata": {
        "colab": {
          "base_uri": "https://localhost:8080/"
        },
        "id": "_u6_cirvrCyE",
        "outputId": "5d99266c-02bb-41e8-f4fb-2d674384843f"
      },
      "execution_count": null,
      "outputs": [
        {
          "output_type": "stream",
          "name": "stdout",
          "text": [
            "MLP accuracy: 0.8360655737704918\n"
          ]
        }
      ]
    },
    {
      "cell_type": "code",
      "source": [
        "from sklearn.neural_network import MLPClassifier\n",
        "from sklearn import metrics\n",
        "\n",
        "mlp = MLPClassifier(random_state = 0, solver = 'sgd' )\n",
        "mlp.fit(train_data_normalized,train_sln)\n",
        "predictions = mlp.predict(test_data_normalized)\n",
        "\n",
        "print(\"MLP accuracy:\", metrics.accuracy_score(test_sln, predictions))"
      ],
      "metadata": {
        "colab": {
          "base_uri": "https://localhost:8080/"
        },
        "id": "ea7HQR5Ltz-G",
        "outputId": "67053fb3-c3ed-4c37-afee-441eb94c96bd"
      },
      "execution_count": null,
      "outputs": [
        {
          "output_type": "stream",
          "name": "stdout",
          "text": [
            "MLP accuracy: 0.8852459016393442\n"
          ]
        }
      ]
    },
    {
      "cell_type": "code",
      "source": [
        "from sklearn.neural_network import MLPClassifier\n",
        "from sklearn import metrics\n",
        "\n",
        "mlp = MLPClassifier(random_state = 0, solver = 'sgd' )\n",
        "mlp.fit(train_data_normalized,train_sln)\n",
        "predictions = mlp.predict(test_data_normalized)\n",
        "\n",
        "print(\"MLP accuracy:\", metrics.accuracy_score(test_sln, predictions))"
      ],
      "metadata": {
        "colab": {
          "base_uri": "https://localhost:8080/"
        },
        "id": "84BDSUoKuQo_",
        "outputId": "f2006149-cfb7-4e56-dfa0-83e1f7d8bdd8"
      },
      "execution_count": null,
      "outputs": [
        {
          "output_type": "stream",
          "name": "stdout",
          "text": [
            "MLP accuracy: 0.8852459016393442\n"
          ]
        }
      ]
    },
    {
      "cell_type": "markdown",
      "source": [
        "###3. learning rate"
      ],
      "metadata": {
        "id": "uE2VFLBSvxI_"
      }
    },
    {
      "cell_type": "code",
      "source": [
        "from sklearn.neural_network import MLPClassifier\n",
        "from sklearn import metrics\n",
        "\n",
        "mlp = MLPClassifier(random_state = 0, learning_rate = \"constant\", solver = 'sgd')\n",
        "mlp.fit(train_data_normalized,train_sln)\n",
        "predictions = mlp.predict(test_data_normalized)\n",
        "\n",
        "print(\"MLP accuracy  :\", metrics.accuracy_score(test_sln, predictions))"
      ],
      "metadata": {
        "colab": {
          "base_uri": "https://localhost:8080/"
        },
        "id": "1nlioji8vzAH",
        "outputId": "4808dacd-ef66-47d7-a0dd-39ad6c6285f8"
      },
      "execution_count": null,
      "outputs": [
        {
          "output_type": "stream",
          "name": "stdout",
          "text": [
            "MLP accuracy  : 0.8852459016393442\n"
          ]
        }
      ]
    },
    {
      "cell_type": "code",
      "source": [
        "from sklearn.neural_network import MLPClassifier\n",
        "from sklearn import metrics\n",
        "\n",
        "mlp = MLPClassifier(random_state = 0, learning_rate = \"invscaling\", solver = 'sgd')\n",
        "mlp.fit(train_data_normalized,train_sln)\n",
        "predictions = mlp.predict(test_data_normalized)\n",
        "\n",
        "print(\"MLP accuracy :\", metrics.accuracy_score(test_sln, predictions))"
      ],
      "metadata": {
        "colab": {
          "base_uri": "https://localhost:8080/"
        },
        "id": "bz0yx1lgwPG1",
        "outputId": "fac2e778-ea2b-4ba5-99b0-b7aac51e0f17"
      },
      "execution_count": null,
      "outputs": [
        {
          "output_type": "stream",
          "name": "stdout",
          "text": [
            "MLP accuracy : 0.3442622950819672\n"
          ]
        }
      ]
    },
    {
      "cell_type": "code",
      "source": [
        "from sklearn.neural_network import MLPClassifier\n",
        "from sklearn import metrics\n",
        "\n",
        "mlp = MLPClassifier(random_state = 0, learning_rate = \"adaptive\", solver = 'sgd')\n",
        "mlp.fit(train_data_normalized,train_sln)\n",
        "predictions = mlp.predict(test_data_normalized)\n",
        "\n",
        "print(\"MLP accuracy:\", metrics.accuracy_score(test_sln, predictions))"
      ],
      "metadata": {
        "colab": {
          "base_uri": "https://localhost:8080/"
        },
        "id": "Zr34JL6gwUqv",
        "outputId": "c7195304-d477-496e-aa23-4f8227e4ec67"
      },
      "execution_count": null,
      "outputs": [
        {
          "output_type": "stream",
          "name": "stdout",
          "text": [
            "MLP accuracy: 0.8852459016393442\n"
          ]
        }
      ]
    },
    {
      "cell_type": "markdown",
      "source": [
        "### 4. Alpha"
      ],
      "metadata": {
        "id": "RKRe9APCwdJx"
      }
    },
    {
      "cell_type": "code",
      "source": [
        "from sklearn.neural_network import MLPClassifier\n",
        "from sklearn import metrics\n",
        "\n",
        "mlp = MLPClassifier(random_state = 0, alpha = .01)\n",
        "mlp.fit(train_data_normalized,train_sln)\n",
        "predictions = mlp.predict(test_data_normalized)\n",
        "\n",
        "print(\"MLP accuracy: \", metrics.accuracy_score(test_sln, predictions))"
      ],
      "metadata": {
        "colab": {
          "base_uri": "https://localhost:8080/"
        },
        "id": "bXEE8zsDxm6J",
        "outputId": "351c3072-9289-4c6b-98ab-1235ed29f326"
      },
      "execution_count": null,
      "outputs": [
        {
          "output_type": "stream",
          "name": "stdout",
          "text": [
            "MLP Regression R2: 0.9016393442622951\n"
          ]
        }
      ]
    },
    {
      "cell_type": "code",
      "source": [
        "from sklearn.neural_network import MLPClassifier\n",
        "from sklearn import metrics\n",
        "\n",
        "mlp = MLPClassifier(random_state = 0, alpha = 1)\n",
        "mlp.fit(train_data_normalized,train_sln)\n",
        "predictions = mlp.predict(test_data_normalized)\n",
        "\n",
        "print(\"MLP accuracy: \", metrics.accuracy_score(test_sln, predictions))"
      ],
      "metadata": {
        "colab": {
          "base_uri": "https://localhost:8080/"
        },
        "id": "hYlCy2N-x1OX",
        "outputId": "bf365a33-c5d1-4dc8-bc76-c15d1f00f80f"
      },
      "execution_count": null,
      "outputs": [
        {
          "output_type": "stream",
          "name": "stdout",
          "text": [
            "MLP Regression R2: 0.8688524590163934\n"
          ]
        }
      ]
    },
    {
      "cell_type": "code",
      "source": [
        "from sklearn.neural_network import MLPClassifier\n",
        "from sklearn import metrics\n",
        "\n",
        "mlp = MLPClassifier(random_state = 0, alpha = 10)\n",
        "mlp.fit(train_data_normalized,train_sln)\n",
        "predictions = mlp.predict(test_data_normalized)\n",
        "\n",
        "print(\"MLP accuracy: \", metrics.accuracy_score(test_sln, predictions))"
      ],
      "metadata": {
        "colab": {
          "base_uri": "https://localhost:8080/"
        },
        "id": "PWpD3OJpx4Vy",
        "outputId": "c2861abb-0e87-494f-aaa5-d812842d96ea"
      },
      "execution_count": null,
      "outputs": [
        {
          "output_type": "stream",
          "name": "stdout",
          "text": [
            "MLP Regression R2: 0.8524590163934426\n"
          ]
        }
      ]
    },
    {
      "cell_type": "markdown",
      "source": [
        "### 5. Best MLP "
      ],
      "metadata": {
        "id": "AK0jAeTYyjFA"
      }
    },
    {
      "cell_type": "code",
      "source": [
        "from sklearn.neural_network import MLPClassifier\n",
        "from sklearn import metrics\n",
        "\n",
        "mlp = MLPClassifier(random_state = 0 )\n",
        "mlp.fit(train_data_normalized,train_sln)\n",
        "predictions = mlp.predict(test_data_normalized)\n",
        "\n",
        "print(\"MLP Accuracy:\", metrics.accuracy_score(test_sln, predictions))"
      ],
      "metadata": {
        "colab": {
          "base_uri": "https://localhost:8080/"
        },
        "id": "5flf3Bw7yoBT",
        "outputId": "9576674a-9230-489d-beba-40744bc8fba5"
      },
      "execution_count": null,
      "outputs": [
        {
          "output_type": "stream",
          "name": "stdout",
          "text": [
            "MLP Accuracy: 0.9016393442622951\n"
          ]
        }
      ]
    },
    {
      "cell_type": "code",
      "source": [],
      "metadata": {
        "id": "Vcv7O0KBzxBy"
      },
      "execution_count": null,
      "outputs": []
    },
    {
      "cell_type": "markdown",
      "source": [
        "> Findings \n",
        "- THe best MLP was the baseline from scikit learn with an accuracy of .9016\n",
        "- modifying alpha either hurt or had no effect on algorithm \n",
        "- learning rate only lowered accuracy \n",
        "- Solver also only lowered accuracy"
      ],
      "metadata": {
        "id": "sJIw5T8kyleQ"
      }
    },
    {
      "cell_type": "code",
      "source": [],
      "metadata": {
        "id": "_LyPUJ8081-1"
      },
      "execution_count": null,
      "outputs": []
    },
    {
      "cell_type": "markdown",
      "source": [],
      "metadata": {
        "id": "VJd5NU58tTLH"
      }
    },
    {
      "cell_type": "markdown",
      "source": [
        "#4. Analysis\n",
        "\n",
        "What did you discover? What insights/recommendations do you have? What did you find that was interesting? Which model was your best model, which models didn't work well? Why do you think this is? In general, I want a discussion of your experiment, the results, and what they mean."
      ],
      "metadata": {
        "id": "2Qu9bYPLmiv_"
      }
    },
    {
      "cell_type": "markdown",
      "source": [
        "I Discovered That the best algorithm for this dataset was a Random Forest agorithm, however I would not have known that if I just ran the basic function for each of these and then tuned the best algorithm. The best RF I came up with had a random_state of 3 and the # of estimators set to 8. I was surprised by this because my gut intuition with this dataset was that it would be easily seperable and would work best with somethign like an SVC, but that was not the case.\n",
        "\n",
        "The worst algorithm was the SVC, which I thought would be the best, I'm assuming that the reason SVC performed so poorly is that the data isn't easily seperated. This was also a problem I remembered SVMs having in assignment 05 as well. I also noticed that changing C and the Gamma of the algorithm had no influence on the accuracy. \n",
        "\n",
        "I was able to increase the accuracy of my SGD, but not enough to out perform my tuned random forest algorithm. I found that by using the following parameters I was able to increase the accuracy:  random_state = 0,  penalty = \"l1\", loss = \"log\", learning_rate = \"constant\", eta0 = .5, max_iter = 7 . \n",
        "\n",
        "Both the Perceptron and the MLP worked ok, but changing parameters also only lowered their accuracy, like the SVC. "
      ],
      "metadata": {
        "id": "k17sKBZUmqIH"
      }
    },
    {
      "cell_type": "markdown",
      "source": [
        "# 5. Bumps in the Road\n",
        "What challenges did you encounter? How did you overcome these challenges?"
      ],
      "metadata": {
        "id": "TemAuKxlm6dQ"
      }
    },
    {
      "cell_type": "markdown",
      "source": [
        "I came across several Bumps in my experiment. The First challenge I had was in picking a dataset. When I got on Kaggle I originally wanted to do an algorithm that classified coffee beans, but every one I found had huge amounts of null rows. Then I found an Amazon Dataset that didn't have any null values and when I looked at the CSV file everything seemed to be relevant and nothing was alarming, but when I started using it in my project I found out that the columns with numeric values were stores as strings, not a numeric datatype. So I had to reasses and came across this heart attack analysis dataset. \n",
        "\n",
        "The Second issue I came across was creating graphs for the last couple algorithms' parameters to see which value was the best. Both MLP and SGD wouldn't let me, and I received an error that they weren't callable. To work around this, I tried editing the graphing function, but it still wouldnt work so I had to give up on using these and create cells with different values for the parameter I was testing. \n",
        "\n",
        "Another Issue I cam across was with the graphs again. When I tried using some prameters I would get an error that said something couldnt be less that 1. so to fix this I added an if statement that would set the the current parameter  for the for loop to 1 if the value it was on happened to be 0 it woudlnt throw an error. "
      ],
      "metadata": {
        "id": "zXEVEG9FnHgQ"
      }
    }
  ]
}